{
 "cells": [
  {
   "cell_type": "markdown",
   "metadata": {},
   "source": [
    "### Exploration/Analysis of Minneapolis Winter Weather 1880-2020\n",
    "data sourced from Minnesota DNR"
   ]
  },
  {
   "cell_type": "code",
   "execution_count": 1,
   "metadata": {},
   "outputs": [],
   "source": [
    "#import libraries\n",
    "import pandas as pd\n",
    "import matplotlib.pyplot as pyplot\n",
    "import seaborn as sns"
   ]
  },
  {
   "cell_type": "markdown",
   "metadata": {},
   "source": [
    "Start with some data cleaning to prepare for analysis."
   ]
  },
  {
   "cell_type": "code",
   "execution_count": 2,
   "metadata": {},
   "outputs": [
    {
     "data": {
      "text/html": [
       "<div>\n",
       "<style scoped>\n",
       "    .dataframe tbody tr th:only-of-type {\n",
       "        vertical-align: middle;\n",
       "    }\n",
       "\n",
       "    .dataframe tbody tr th {\n",
       "        vertical-align: top;\n",
       "    }\n",
       "\n",
       "    .dataframe thead th {\n",
       "        text-align: right;\n",
       "    }\n",
       "</style>\n",
       "<table border=\"1\" class=\"dataframe\">\n",
       "  <thead>\n",
       "    <tr style=\"text-align: right;\">\n",
       "      <th></th>\n",
       "      <th>Date</th>\n",
       "      <th>MaxTemp</th>\n",
       "      <th>MinTemp</th>\n",
       "      <th>Precip</th>\n",
       "      <th>Snow</th>\n",
       "      <th>SnowDepth</th>\n",
       "      <th>datetime</th>\n",
       "      <th>day</th>\n",
       "      <th>month</th>\n",
       "      <th>year</th>\n",
       "      <th>season</th>\n",
       "    </tr>\n",
       "  </thead>\n",
       "  <tbody>\n",
       "    <tr>\n",
       "      <th>26310</th>\n",
       "      <td>5/17/2009</td>\n",
       "      <td>67</td>\n",
       "      <td>41</td>\n",
       "      <td>0</td>\n",
       "      <td>0</td>\n",
       "      <td>0</td>\n",
       "      <td>2009-05-17</td>\n",
       "      <td>17</td>\n",
       "      <td>5</td>\n",
       "      <td>2009</td>\n",
       "      <td>Spring</td>\n",
       "    </tr>\n",
       "  </tbody>\n",
       "</table>\n",
       "</div>"
      ],
      "text/plain": [
       "            Date MaxTemp MinTemp Precip Snow SnowDepth    datetime  day  \\\n",
       "26310  5/17/2009      67      41      0    0         0  2009-05-17   17   \n",
       "\n",
       "       month  year  season  \n",
       "26310      5  2009  Spring  "
      ]
     },
     "execution_count": 2,
     "metadata": {},
     "output_type": "execute_result"
    }
   ],
   "source": [
    "# Load file\n",
    "df = pd.read_csv('msp_historical_weather.csv')\n",
    "# Remove first column\n",
    "df = df.drop(columns=['Unnamed: 0'])\n",
    "# Show sample\n",
    "df.sample()\n",
    "#Check datatypes\n",
    "df.dtypes\n",
    "# check for na's\n",
    "df.isnull().sum()\n",
    "# drop where tempature is missing\n",
    "df = df.loc[150:]\n",
    "df.sample()\n",
    "#find and replace T with .01\n",
    "df = df.replace('T',.01)\n",
    "# replace missing values with Nan\n",
    "df = df.replace('M','NaN')\n",
    "# show sample\n",
    "df.sample()"
   ]
  },
  {
   "cell_type": "markdown",
   "metadata": {},
   "source": [
    "Tempature Trends in Winter"
   ]
  },
  {
   "cell_type": "code",
   "execution_count": 4,
   "metadata": {},
   "outputs": [
    {
     "data": {
      "text/plain": [
       "MaxTemp      int64\n",
       "MinTemp      int64\n",
       "Date        object\n",
       "day          int64\n",
       "month        int64\n",
       "year         int64\n",
       "season      object\n",
       "datetime    object\n",
       "dtype: object"
      ]
     },
     "execution_count": 4,
     "metadata": {},
     "output_type": "execute_result"
    }
   ],
   "source": [
    "# Make DF just for tempatures\n",
    "temps = df[['MaxTemp','MinTemp','Date','day','month','year','season','datetime']]\n",
    "# Convert temps from Objects to Numbers\n",
    "# Get rid of NaN values\n",
    "temps=temps[(temps['MaxTemp']!= 'NaN') & (temps['MinTemp'] != 'NaN')]\n",
    "# Conver MaxTemp and MinTemp to numerical values\n",
    "temps.MaxTemp=pd.to_numeric(temps.MaxTemp)\n",
    "temps.MinTemp=pd.to_numeric(temps.MinTemp)\n",
    "#Apply to numeric ignoring uneeded columns\n",
    "temps = temps.apply(pd.to_numeric, errors='ignore')\n",
    "# Check dateatypes to confirm that Temps are Integers\n",
    "temps.dtypes"
   ]
  },
  {
   "cell_type": "markdown",
   "metadata": {},
   "source": [
    "Now add some information to better inform analysis. Found the average Tempature and high and Low Tempatures."
   ]
  },
  {
   "cell_type": "code",
   "execution_count": 5,
   "metadata": {},
   "outputs": [
    {
     "data": {
      "text/html": [
       "<div>\n",
       "<style scoped>\n",
       "    .dataframe tbody tr th:only-of-type {\n",
       "        vertical-align: middle;\n",
       "    }\n",
       "\n",
       "    .dataframe tbody tr th {\n",
       "        vertical-align: top;\n",
       "    }\n",
       "\n",
       "    .dataframe thead th {\n",
       "        text-align: right;\n",
       "    }\n",
       "</style>\n",
       "<table border=\"1\" class=\"dataframe\">\n",
       "  <thead>\n",
       "    <tr style=\"text-align: right;\">\n",
       "      <th></th>\n",
       "      <th>MaxTemp</th>\n",
       "      <th>MinTemp</th>\n",
       "      <th>Date</th>\n",
       "      <th>day</th>\n",
       "      <th>month</th>\n",
       "      <th>year</th>\n",
       "      <th>season</th>\n",
       "      <th>datetime</th>\n",
       "      <th>AveTemp</th>\n",
       "      <th>HighLowDiff</th>\n",
       "    </tr>\n",
       "  </thead>\n",
       "  <tbody>\n",
       "    <tr>\n",
       "      <th>11490</th>\n",
       "      <td>29</td>\n",
       "      <td>21</td>\n",
       "      <td>1/30/1998</td>\n",
       "      <td>30</td>\n",
       "      <td>1</td>\n",
       "      <td>1998</td>\n",
       "      <td>Winter</td>\n",
       "      <td>1998-01-30</td>\n",
       "      <td>25.0</td>\n",
       "      <td>8</td>\n",
       "    </tr>\n",
       "    <tr>\n",
       "      <th>1109</th>\n",
       "      <td>22</td>\n",
       "      <td>6</td>\n",
       "      <td>1883-01-27</td>\n",
       "      <td>27</td>\n",
       "      <td>1</td>\n",
       "      <td>1883</td>\n",
       "      <td>Winter</td>\n",
       "      <td>1883-01-27</td>\n",
       "      <td>14.0</td>\n",
       "      <td>16</td>\n",
       "    </tr>\n",
       "    <tr>\n",
       "      <th>6057</th>\n",
       "      <td>22</td>\n",
       "      <td>11</td>\n",
       "      <td>1/12/1938</td>\n",
       "      <td>12</td>\n",
       "      <td>1</td>\n",
       "      <td>1938</td>\n",
       "      <td>Winter</td>\n",
       "      <td>1938-01-12</td>\n",
       "      <td>16.5</td>\n",
       "      <td>11</td>\n",
       "    </tr>\n",
       "    <tr>\n",
       "      <th>12842</th>\n",
       "      <td>33</td>\n",
       "      <td>30</td>\n",
       "      <td>1/28/2013</td>\n",
       "      <td>28</td>\n",
       "      <td>1</td>\n",
       "      <td>2013</td>\n",
       "      <td>Winter</td>\n",
       "      <td>2013-01-28</td>\n",
       "      <td>31.5</td>\n",
       "      <td>3</td>\n",
       "    </tr>\n",
       "    <tr>\n",
       "      <th>8602</th>\n",
       "      <td>3</td>\n",
       "      <td>-15</td>\n",
       "      <td>1/30/1966</td>\n",
       "      <td>30</td>\n",
       "      <td>1</td>\n",
       "      <td>1966</td>\n",
       "      <td>Winter</td>\n",
       "      <td>1966-01-30</td>\n",
       "      <td>-6.0</td>\n",
       "      <td>18</td>\n",
       "    </tr>\n",
       "  </tbody>\n",
       "</table>\n",
       "</div>"
      ],
      "text/plain": [
       "       MaxTemp  MinTemp        Date  day  month  year  season    datetime  \\\n",
       "11490       29       21   1/30/1998   30      1  1998  Winter  1998-01-30   \n",
       "1109        22        6  1883-01-27   27      1  1883  Winter  1883-01-27   \n",
       "6057        22       11   1/12/1938   12      1  1938  Winter  1938-01-12   \n",
       "12842       33       30   1/28/2013   28      1  2013  Winter  2013-01-28   \n",
       "8602         3      -15   1/30/1966   30      1  1966  Winter  1966-01-30   \n",
       "\n",
       "       AveTemp  HighLowDiff  \n",
       "11490     25.0            8  \n",
       "1109      14.0           16  \n",
       "6057      16.5           11  \n",
       "12842     31.5            3  \n",
       "8602      -6.0           18  "
      ]
     },
     "execution_count": 5,
     "metadata": {},
     "output_type": "execute_result"
    }
   ],
   "source": [
    "# add column with average tempature\n",
    "temps['AveTemp'] = (temps['MaxTemp'] + temps['MinTemp']) / 2\n",
    "# add column with differance between High and Low Temp\n",
    "temps['HighLowDiff'] = (temps['MaxTemp'] - temps['MinTemp'])\n",
    "# Show sample \n",
    "temps.sample(5)\n",
    "# subset just winter\n",
    "winter = temps[temps['season']=='Winter']\n",
    "winter.sample(5)\n",
    "# Now just segment out January\n",
    "jan = winter[winter['month']==1]\n",
    "# Show sample\n",
    "jan.sample(5)"
   ]
  },
  {
   "cell_type": "markdown",
   "metadata": {},
   "source": [
    "Show summary stats for Winter"
   ]
  },
  {
   "cell_type": "markdown",
   "metadata": {},
   "source": [
    "Show sum stats for January"
   ]
  },
  {
   "cell_type": "code",
   "execution_count": 13,
   "metadata": {},
   "outputs": [
    {
     "data": {
      "text/html": [
       "<div>\n",
       "<style scoped>\n",
       "    .dataframe tbody tr th:only-of-type {\n",
       "        vertical-align: middle;\n",
       "    }\n",
       "\n",
       "    .dataframe tbody tr th {\n",
       "        vertical-align: top;\n",
       "    }\n",
       "\n",
       "    .dataframe thead th {\n",
       "        text-align: right;\n",
       "    }\n",
       "</style>\n",
       "<table border=\"1\" class=\"dataframe\">\n",
       "  <thead>\n",
       "    <tr style=\"text-align: right;\">\n",
       "      <th></th>\n",
       "      <th>MaxTemp</th>\n",
       "      <th>MinTemp</th>\n",
       "      <th>day</th>\n",
       "      <th>month</th>\n",
       "      <th>year</th>\n",
       "      <th>AveTemp</th>\n",
       "      <th>HighLowDiff</th>\n",
       "    </tr>\n",
       "  </thead>\n",
       "  <tbody>\n",
       "    <tr>\n",
       "      <th>count</th>\n",
       "      <td>4588.000000</td>\n",
       "      <td>4588.000000</td>\n",
       "      <td>4588.000000</td>\n",
       "      <td>4588.0</td>\n",
       "      <td>4588.000000</td>\n",
       "      <td>4588.000000</td>\n",
       "      <td>4588.000000</td>\n",
       "    </tr>\n",
       "    <tr>\n",
       "      <th>mean</th>\n",
       "      <td>21.820837</td>\n",
       "      <td>4.776373</td>\n",
       "      <td>16.000000</td>\n",
       "      <td>1.0</td>\n",
       "      <td>1946.500000</td>\n",
       "      <td>13.298605</td>\n",
       "      <td>17.044464</td>\n",
       "    </tr>\n",
       "    <tr>\n",
       "      <th>std</th>\n",
       "      <td>13.446458</td>\n",
       "      <td>14.620544</td>\n",
       "      <td>8.945247</td>\n",
       "      <td>0.0</td>\n",
       "      <td>42.727601</td>\n",
       "      <td>13.521527</td>\n",
       "      <td>7.603181</td>\n",
       "    </tr>\n",
       "    <tr>\n",
       "      <th>min</th>\n",
       "      <td>-20.000000</td>\n",
       "      <td>-41.000000</td>\n",
       "      <td>1.000000</td>\n",
       "      <td>1.0</td>\n",
       "      <td>1873.000000</td>\n",
       "      <td>-29.000000</td>\n",
       "      <td>1.000000</td>\n",
       "    </tr>\n",
       "    <tr>\n",
       "      <th>25%</th>\n",
       "      <td>12.000000</td>\n",
       "      <td>-6.000000</td>\n",
       "      <td>8.000000</td>\n",
       "      <td>1.0</td>\n",
       "      <td>1909.750000</td>\n",
       "      <td>3.500000</td>\n",
       "      <td>12.000000</td>\n",
       "    </tr>\n",
       "    <tr>\n",
       "      <th>50%</th>\n",
       "      <td>23.000000</td>\n",
       "      <td>5.000000</td>\n",
       "      <td>16.000000</td>\n",
       "      <td>1.0</td>\n",
       "      <td>1946.500000</td>\n",
       "      <td>14.500000</td>\n",
       "      <td>16.000000</td>\n",
       "    </tr>\n",
       "    <tr>\n",
       "      <th>75%</th>\n",
       "      <td>32.000000</td>\n",
       "      <td>16.000000</td>\n",
       "      <td>24.000000</td>\n",
       "      <td>1.0</td>\n",
       "      <td>1983.250000</td>\n",
       "      <td>24.000000</td>\n",
       "      <td>21.000000</td>\n",
       "    </tr>\n",
       "    <tr>\n",
       "      <th>max</th>\n",
       "      <td>58.000000</td>\n",
       "      <td>42.000000</td>\n",
       "      <td>31.000000</td>\n",
       "      <td>1.0</td>\n",
       "      <td>2020.000000</td>\n",
       "      <td>50.000000</td>\n",
       "      <td>49.000000</td>\n",
       "    </tr>\n",
       "  </tbody>\n",
       "</table>\n",
       "</div>"
      ],
      "text/plain": [
       "           MaxTemp      MinTemp          day   month         year  \\\n",
       "count  4588.000000  4588.000000  4588.000000  4588.0  4588.000000   \n",
       "mean     21.820837     4.776373    16.000000     1.0  1946.500000   \n",
       "std      13.446458    14.620544     8.945247     0.0    42.727601   \n",
       "min     -20.000000   -41.000000     1.000000     1.0  1873.000000   \n",
       "25%      12.000000    -6.000000     8.000000     1.0  1909.750000   \n",
       "50%      23.000000     5.000000    16.000000     1.0  1946.500000   \n",
       "75%      32.000000    16.000000    24.000000     1.0  1983.250000   \n",
       "max      58.000000    42.000000    31.000000     1.0  2020.000000   \n",
       "\n",
       "           AveTemp  HighLowDiff  \n",
       "count  4588.000000  4588.000000  \n",
       "mean     13.298605    17.044464  \n",
       "std      13.521527     7.603181  \n",
       "min     -29.000000     1.000000  \n",
       "25%       3.500000    12.000000  \n",
       "50%      14.500000    16.000000  \n",
       "75%      24.000000    21.000000  \n",
       "max      50.000000    49.000000  "
      ]
     },
     "execution_count": 13,
     "metadata": {},
     "output_type": "execute_result"
    }
   ],
   "source": [
    "jan.describe()"
   ]
  },
  {
   "cell_type": "markdown",
   "metadata": {},
   "source": [
    "# Global Tempature Changes\n",
    "Has global warming changed the average tempatures in Minneapolis over the last 100 years?\n"
   ]
  },
  {
   "cell_type": "code",
   "execution_count": 6,
   "metadata": {},
   "outputs": [
    {
     "data": {
      "text/html": [
       "<div>\n",
       "<style scoped>\n",
       "    .dataframe tbody tr th:only-of-type {\n",
       "        vertical-align: middle;\n",
       "    }\n",
       "\n",
       "    .dataframe tbody tr th {\n",
       "        vertical-align: top;\n",
       "    }\n",
       "\n",
       "    .dataframe thead th {\n",
       "        text-align: right;\n",
       "    }\n",
       "</style>\n",
       "<table border=\"1\" class=\"dataframe\">\n",
       "  <thead>\n",
       "    <tr style=\"text-align: right;\">\n",
       "      <th></th>\n",
       "      <th>MaxTemp</th>\n",
       "      <th>MinTemp</th>\n",
       "      <th>Date</th>\n",
       "      <th>day</th>\n",
       "      <th>month</th>\n",
       "      <th>year</th>\n",
       "      <th>season</th>\n",
       "      <th>datetime</th>\n",
       "      <th>AveTemp</th>\n",
       "      <th>HighLowDiff</th>\n",
       "    </tr>\n",
       "  </thead>\n",
       "  <tbody>\n",
       "    <tr>\n",
       "      <th>1717</th>\n",
       "      <td>10</td>\n",
       "      <td>-12</td>\n",
       "      <td>1890-01-03</td>\n",
       "      <td>3</td>\n",
       "      <td>1</td>\n",
       "      <td>1890</td>\n",
       "      <td>Winter</td>\n",
       "      <td>1890-01-03</td>\n",
       "      <td>-1.0</td>\n",
       "      <td>22</td>\n",
       "    </tr>\n",
       "  </tbody>\n",
       "</table>\n",
       "</div>"
      ],
      "text/plain": [
       "      MaxTemp  MinTemp        Date  day  month  year  season    datetime  \\\n",
       "1717       10      -12  1890-01-03    3      1  1890  Winter  1890-01-03   \n",
       "\n",
       "      AveTemp  HighLowDiff  \n",
       "1717     -1.0           22  "
      ]
     },
     "execution_count": 6,
     "metadata": {},
     "output_type": "execute_result"
    }
   ],
   "source": [
    "jan.sample()"
   ]
  },
  {
   "cell_type": "code",
   "execution_count": null,
   "metadata": {},
   "outputs": [],
   "source": [
    "# make df based on dates\n",
    "#old_times = \n",
    "# Old times for years 1890-1920\n",
    "old_times = jan.query(\"(year > 1889) and (year < 1921)\")\n",
    "old_times['time'] = '1890-1920'\n",
    "old_times['split'] = 'old'\n",
    "# Present for years 1990-1920\n",
    "present = jan.query(\"(year > 1989) and (year < 2021)\")\n",
    "present['time']='1990-2020'\n",
    "present['split']='present'\n",
    "\n",
    "# concat back into one df\n",
    "old_and_present = pd.concat([old_times,present])\n",
    "old_and_present.head()"
   ]
  },
  {
   "cell_type": "code",
   "execution_count": 105,
   "metadata": {},
   "outputs": [
    {
     "data": {
      "text/plain": [
       "Text(0.5, 1.0, 'Average January Daily Tempature in Minneapolis, MN 1890-1920 vs 1990-1920')"
      ]
     },
     "execution_count": 105,
     "metadata": {},
     "output_type": "execute_result"
    },
    {
     "data": {
      "image/png": "[encoded data removed]",
      "text/plain": [
       "<Figure size 432x288 with 1 Axes>"
      ]
     },
     "metadata": {},
     "output_type": "display_data"
    }
   ],
   "source": [
    "import matplotlib.pyplot as plt\n",
    "#violin plot\n",
    "ax = sns.violinplot(x=['Temps']*len(old_and_present),\n",
    "                    y=\"AveTemp\",hue='time',data=old_and_present,\n",
    "                    split=True,palette='Blues',inner=\"quart\",)\n",
    "plt.title('Average January Daily Tempature in Minneapolis, MN 1890-1920 vs 1990-1920')\n",
    "                    \n",
    "                   \n",
    "\n",
    "\n",
    "    # Draw a nested violinplot and split the violins for easier comparison\n",
    "#sns.violinplot(x=['Data']*len(tips),y=\"total_bill\", hue=\"smoker\",\n",
    "               #split=True, inner=\"quart\",\n",
    "               #palette={\"Yes\": \"y\", \"No\": \"b\"},\n",
    "               #data=tips)\n",
    "#sns.despine(left=True)"
   ]
  },
  {
   "cell_type": "code",
   "execution_count": 93,
   "metadata": {},
   "outputs": [
    {
     "data": {
      "text/html": [
       "<div>\n",
       "<style scoped>\n",
       "    .dataframe tbody tr th:only-of-type {\n",
       "        vertical-align: middle;\n",
       "    }\n",
       "\n",
       "    .dataframe tbody tr th {\n",
       "        vertical-align: top;\n",
       "    }\n",
       "\n",
       "    .dataframe thead th {\n",
       "        text-align: right;\n",
       "    }\n",
       "</style>\n",
       "<table border=\"1\" class=\"dataframe\">\n",
       "  <thead>\n",
       "    <tr style=\"text-align: right;\">\n",
       "      <th></th>\n",
       "      <th>total_bill</th>\n",
       "      <th>tip</th>\n",
       "      <th>sex</th>\n",
       "      <th>smoker</th>\n",
       "      <th>day</th>\n",
       "      <th>time</th>\n",
       "      <th>size</th>\n",
       "    </tr>\n",
       "  </thead>\n",
       "  <tbody>\n",
       "    <tr>\n",
       "      <th>0</th>\n",
       "      <td>16.99</td>\n",
       "      <td>1.01</td>\n",
       "      <td>Female</td>\n",
       "      <td>No</td>\n",
       "      <td>Sun</td>\n",
       "      <td>Dinner</td>\n",
       "      <td>2</td>\n",
       "    </tr>\n",
       "    <tr>\n",
       "      <th>1</th>\n",
       "      <td>10.34</td>\n",
       "      <td>1.66</td>\n",
       "      <td>Male</td>\n",
       "      <td>No</td>\n",
       "      <td>Sun</td>\n",
       "      <td>Dinner</td>\n",
       "      <td>3</td>\n",
       "    </tr>\n",
       "    <tr>\n",
       "      <th>2</th>\n",
       "      <td>21.01</td>\n",
       "      <td>3.50</td>\n",
       "      <td>Male</td>\n",
       "      <td>No</td>\n",
       "      <td>Sun</td>\n",
       "      <td>Dinner</td>\n",
       "      <td>3</td>\n",
       "    </tr>\n",
       "    <tr>\n",
       "      <th>3</th>\n",
       "      <td>23.68</td>\n",
       "      <td>3.31</td>\n",
       "      <td>Male</td>\n",
       "      <td>No</td>\n",
       "      <td>Sun</td>\n",
       "      <td>Dinner</td>\n",
       "      <td>2</td>\n",
       "    </tr>\n",
       "    <tr>\n",
       "      <th>4</th>\n",
       "      <td>24.59</td>\n",
       "      <td>3.61</td>\n",
       "      <td>Female</td>\n",
       "      <td>No</td>\n",
       "      <td>Sun</td>\n",
       "      <td>Dinner</td>\n",
       "      <td>4</td>\n",
       "    </tr>\n",
       "  </tbody>\n",
       "</table>\n",
       "</div>"
      ],
      "text/plain": [
       "   total_bill   tip     sex smoker  day    time  size\n",
       "0       16.99  1.01  Female     No  Sun  Dinner     2\n",
       "1       10.34  1.66    Male     No  Sun  Dinner     3\n",
       "2       21.01  3.50    Male     No  Sun  Dinner     3\n",
       "3       23.68  3.31    Male     No  Sun  Dinner     2\n",
       "4       24.59  3.61  Female     No  Sun  Dinner     4"
      ]
     },
     "execution_count": 93,
     "metadata": {},
     "output_type": "execute_result"
    },
    {
     "data": {
      "image/png": "[encoded data removed]",
      "text/plain": [
       "<Figure size 429.375x360 with 1 Axes>"
      ]
     },
     "metadata": {},
     "output_type": "display_data"
    }
   ],
   "source": [
    "tips = sns.load_dataset(\"tips\")\n",
    "\n",
    "sns.catplot(x=\"day\", y=\"total_bill\", hue=\"sex\",\n",
    "            kind=\"violin\", split=True, data=tips)\n",
    "tips.head()"
   ]
  },
  {
   "cell_type": "code",
   "execution_count": 76,
   "metadata": {},
   "outputs": [
    {
     "data": {
      "text/plain": [
       "Text(0.5, 1.0, 'Average January Daily Tempature in Minneapolis, MN 1890-1920 vs 1990-1920')"
      ]
     },
     "execution_count": 76,
     "metadata": {},
     "output_type": "execute_result"
    },
    {
     "data": {
      "image/png": "[encoded data removed]",
      "text/plain": [
       "<Figure size 432x288 with 1 Axes>"
      ]
     },
     "metadata": {},
     "output_type": "display_data"
    }
   ],
   "source": [
    "# boxplot\n",
    "sns.color_palette('deep')\n",
    "sns.set_style('darkgrid')\n",
    "\n",
    "ax = sns.boxplot(x=\"time\",y=\"AveTemp\",data=old_and_present,palette='Blues')\n",
    "plt.title('Average January Daily Tempature in Minneapolis, MN 1890-1920 vs 1990-1920')"
   ]
  },
  {
   "cell_type": "code",
   "execution_count": 14,
   "metadata": {},
   "outputs": [],
   "source": [
    "# groupby average low temp and plot\n",
    "#jan.groupby('year')['MinTemp'].mean()\n",
    "# df for average low temps\n",
    "ave_jan_low = jan.groupby('year')['MinTemp'].mean()\n",
    "ave_jan_low = ave_jan_low.to_frame()\n",
    "ave_jan_low = ave_jan_low.reset_index()"
   ]
  },
  {
   "cell_type": "code",
   "execution_count": 15,
   "metadata": {},
   "outputs": [
    {
     "ename": "NameError",
     "evalue": "name 'style' is not defined",
     "output_type": "error",
     "traceback": [
      "\u001b[1;31m---------------------------------------------------------------------------\u001b[0m",
      "\u001b[1;31mNameError\u001b[0m                                 Traceback (most recent call last)",
      "\u001b[1;32m<ipython-input-15-dfb2b9499486>\u001b[0m in \u001b[0;36m<module>\u001b[1;34m\u001b[0m\n\u001b[0;32m      1\u001b[0m \u001b[1;31m# plot\u001b[0m\u001b[1;33m\u001b[0m\u001b[1;33m\u001b[0m\u001b[1;33m\u001b[0m\u001b[0m\n\u001b[1;32m----> 2\u001b[1;33m \u001b[0mstyle\u001b[0m\u001b[1;33m.\u001b[0m\u001b[0muse\u001b[0m\u001b[1;33m(\u001b[0m\u001b[1;34m'fivethirtyeight'\u001b[0m\u001b[1;33m)\u001b[0m\u001b[1;33m\u001b[0m\u001b[1;33m\u001b[0m\u001b[0m\n\u001b[0m\u001b[0;32m      3\u001b[0m \u001b[0msns\u001b[0m\u001b[1;33m.\u001b[0m\u001b[0mlmplot\u001b[0m\u001b[1;33m(\u001b[0m\u001b[0mx\u001b[0m\u001b[1;33m=\u001b[0m\u001b[1;34m'year'\u001b[0m\u001b[1;33m,\u001b[0m\u001b[0my\u001b[0m\u001b[1;33m=\u001b[0m\u001b[1;34m'MinTemp'\u001b[0m\u001b[1;33m,\u001b[0m \u001b[0mdata\u001b[0m\u001b[1;33m=\u001b[0m\u001b[0mave_jan_low\u001b[0m\u001b[1;33m)\u001b[0m\u001b[1;33m\u001b[0m\u001b[1;33m\u001b[0m\u001b[0m\n\u001b[0;32m      4\u001b[0m \u001b[0mgrid\u001b[0m\u001b[1;33m=\u001b[0m\u001b[1;32mTrue\u001b[0m\u001b[1;33m\u001b[0m\u001b[1;33m\u001b[0m\u001b[0m\n",
      "\u001b[1;31mNameError\u001b[0m: name 'style' is not defined"
     ]
    }
   ],
   "source": [
    "# plot\n",
    "style.use('fivethirtyeight')\n",
    "sns.lmplot(x='year',y='MinTemp', data=ave_jan_low)\n",
    "grid=True"
   ]
  }
 ],
 "metadata": {
  "kernelspec": {
   "display_name": "Python 3",
   "language": "python",
   "name": "python3"
  },
  "language_info": {
   "codemirror_mode": {
    "name": "ipython",
    "version": 3
   },
   "file_extension": ".py",
   "mimetype": "text/x-python",
   "name": "python",
   "nbconvert_exporter": "python",
   "pygments_lexer": "ipython3",
   "version": "3.8.3"
  }
 },
 "nbformat": 4,
 "nbformat_minor": 4
}
