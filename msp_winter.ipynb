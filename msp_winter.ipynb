{
 "cells": [
  {
   "cell_type": "markdown",
   "metadata": {},
   "source": [
    "### Exploration/Analysis of Minneapolis Winter Weather 1880-2020\n",
    "data sourced from Minnesota DNR"
   ]
  },
  {
   "cell_type": "code",
   "execution_count": 2,
   "metadata": {},
   "outputs": [],
   "source": [
    "#import libraries\n",
    "import pandas as pd\n",
    "import matplotlib.pyplot as pyplot\n",
    "import seaborn as sns\n"
   ]
  },
  {
   "cell_type": "markdown",
   "metadata": {},
   "source": [
    "Start with some data cleaning to prepare for analysis."
   ]
  },
  {
   "cell_type": "code",
   "execution_count": 3,
   "metadata": {},
   "outputs": [
    {
     "data": {
      "text/html": [
       "<div>\n",
       "<style scoped>\n",
       "    .dataframe tbody tr th:only-of-type {\n",
       "        vertical-align: middle;\n",
       "    }\n",
       "\n",
       "    .dataframe tbody tr th {\n",
       "        vertical-align: top;\n",
       "    }\n",
       "\n",
       "    .dataframe thead th {\n",
       "        text-align: right;\n",
       "    }\n",
       "</style>\n",
       "<table border=\"1\" class=\"dataframe\">\n",
       "  <thead>\n",
       "    <tr style=\"text-align: right;\">\n",
       "      <th></th>\n",
       "      <th>Date</th>\n",
       "      <th>MaxTemp</th>\n",
       "      <th>MinTemp</th>\n",
       "      <th>Precip</th>\n",
       "      <th>Snow</th>\n",
       "      <th>SnowDepth</th>\n",
       "      <th>datetime</th>\n",
       "      <th>day</th>\n",
       "      <th>month</th>\n",
       "      <th>year</th>\n",
       "      <th>season</th>\n",
       "    </tr>\n",
       "  </thead>\n",
       "  <tbody>\n",
       "    <tr>\n",
       "      <th>20031</th>\n",
       "      <td>4/24/1941</td>\n",
       "      <td>59</td>\n",
       "      <td>31</td>\n",
       "      <td>0</td>\n",
       "      <td>0</td>\n",
       "      <td>0</td>\n",
       "      <td>1941-04-24</td>\n",
       "      <td>24</td>\n",
       "      <td>4</td>\n",
       "      <td>1941</td>\n",
       "      <td>Spring</td>\n",
       "    </tr>\n",
       "  </tbody>\n",
       "</table>\n",
       "</div>"
      ],
      "text/plain": [
       "            Date MaxTemp MinTemp Precip Snow SnowDepth    datetime  day  \\\n",
       "20031  4/24/1941      59      31      0    0         0  1941-04-24   24   \n",
       "\n",
       "       month  year  season  \n",
       "20031      4  1941  Spring  "
      ]
     },
     "execution_count": 3,
     "metadata": {},
     "output_type": "execute_result"
    }
   ],
   "source": [
    "# Load file\n",
    "df = pd.read_csv('msp_historical_weather.csv')\n",
    "# Remove first column\n",
    "df = df.drop(columns=['Unnamed: 0'])\n",
    "# Show sample\n",
    "df.sample()\n",
    "#Check datatypes\n",
    "df.dtypes\n",
    "# check for na's\n",
    "df.isnull().sum()\n",
    "# drop where tempature is missing\n",
    "df = df.loc[150:]\n",
    "df.sample()\n",
    "#find and replace T with .01\n",
    "df = df.replace('T',.01)\n",
    "# replace missing values with Nan\n",
    "df = df.replace('M','NaN')\n",
    "# show sample\n",
    "df.sample()"
   ]
  },
  {
   "cell_type": "markdown",
   "metadata": {},
   "source": [
    "Tempature Trends in Winter"
   ]
  },
  {
   "cell_type": "code",
   "execution_count": 4,
   "metadata": {},
   "outputs": [
    {
     "data": {
      "text/plain": [
       "MaxTemp      int64\n",
       "MinTemp      int64\n",
       "Date        object\n",
       "day          int64\n",
       "month        int64\n",
       "year         int64\n",
       "season      object\n",
       "datetime    object\n",
       "dtype: object"
      ]
     },
     "execution_count": 4,
     "metadata": {},
     "output_type": "execute_result"
    }
   ],
   "source": [
    "# Make DF just for tempatures\n",
    "temps = df[['MaxTemp','MinTemp','Date','day','month','year','season','datetime']]\n",
    "# Convert temps from Objects to Numbers\n",
    "# Get rid of NaN values\n",
    "temps=temps[(temps['MaxTemp']!= 'NaN') & (temps['MinTemp'] != 'NaN')]\n",
    "# Conver MaxTemp and MinTemp to numerical values\n",
    "temps.MaxTemp=pd.to_numeric(temps.MaxTemp)\n",
    "temps.MinTemp=pd.to_numeric(temps.MinTemp)\n",
    "#Apply to numeric ignoring uneeded columns\n",
    "temps = temps.apply(pd.to_numeric, errors='ignore')\n",
    "# Check dateatypes to confirm that Temps are Integers\n",
    "temps.dtypes"
   ]
  },
  {
   "cell_type": "markdown",
   "metadata": {},
   "source": [
    "Now add some information to better inform analysis. Found the average Tempature and high and Low Tempatures."
   ]
  },
  {
   "cell_type": "code",
   "execution_count": 5,
   "metadata": {},
   "outputs": [
    {
     "data": {
      "text/html": [
       "<div>\n",
       "<style scoped>\n",
       "    .dataframe tbody tr th:only-of-type {\n",
       "        vertical-align: middle;\n",
       "    }\n",
       "\n",
       "    .dataframe tbody tr th {\n",
       "        vertical-align: top;\n",
       "    }\n",
       "\n",
       "    .dataframe thead th {\n",
       "        text-align: right;\n",
       "    }\n",
       "</style>\n",
       "<table border=\"1\" class=\"dataframe\">\n",
       "  <thead>\n",
       "    <tr style=\"text-align: right;\">\n",
       "      <th></th>\n",
       "      <th>MaxTemp</th>\n",
       "      <th>MinTemp</th>\n",
       "      <th>Date</th>\n",
       "      <th>day</th>\n",
       "      <th>month</th>\n",
       "      <th>year</th>\n",
       "      <th>season</th>\n",
       "      <th>datetime</th>\n",
       "      <th>AveTemp</th>\n",
       "      <th>HighLowDiff</th>\n",
       "    </tr>\n",
       "  </thead>\n",
       "  <tbody>\n",
       "    <tr>\n",
       "      <th>562</th>\n",
       "      <td>24</td>\n",
       "      <td>0</td>\n",
       "      <td>1877-01-21</td>\n",
       "      <td>21</td>\n",
       "      <td>1</td>\n",
       "      <td>1877</td>\n",
       "      <td>Winter</td>\n",
       "      <td>1877-01-21</td>\n",
       "      <td>12.0</td>\n",
       "      <td>24</td>\n",
       "    </tr>\n",
       "    <tr>\n",
       "      <th>8148</th>\n",
       "      <td>13</td>\n",
       "      <td>-14</td>\n",
       "      <td>1/27/1961</td>\n",
       "      <td>27</td>\n",
       "      <td>1</td>\n",
       "      <td>1961</td>\n",
       "      <td>Winter</td>\n",
       "      <td>1961-01-27</td>\n",
       "      <td>-0.5</td>\n",
       "      <td>27</td>\n",
       "    </tr>\n",
       "    <tr>\n",
       "      <th>1375</th>\n",
       "      <td>7</td>\n",
       "      <td>-28</td>\n",
       "      <td>1886-01-22</td>\n",
       "      <td>22</td>\n",
       "      <td>1</td>\n",
       "      <td>1886</td>\n",
       "      <td>Winter</td>\n",
       "      <td>1886-01-22</td>\n",
       "      <td>-10.5</td>\n",
       "      <td>35</td>\n",
       "    </tr>\n",
       "    <tr>\n",
       "      <th>7581</th>\n",
       "      <td>27</td>\n",
       "      <td>9</td>\n",
       "      <td>1/2/1955</td>\n",
       "      <td>2</td>\n",
       "      <td>1</td>\n",
       "      <td>1955</td>\n",
       "      <td>Winter</td>\n",
       "      <td>1955-01-02</td>\n",
       "      <td>18.0</td>\n",
       "      <td>18</td>\n",
       "    </tr>\n",
       "    <tr>\n",
       "      <th>11743</th>\n",
       "      <td>33</td>\n",
       "      <td>27</td>\n",
       "      <td>1/12/2001</td>\n",
       "      <td>12</td>\n",
       "      <td>1</td>\n",
       "      <td>2001</td>\n",
       "      <td>Winter</td>\n",
       "      <td>2001-01-12</td>\n",
       "      <td>30.0</td>\n",
       "      <td>6</td>\n",
       "    </tr>\n",
       "  </tbody>\n",
       "</table>\n",
       "</div>"
      ],
      "text/plain": [
       "       MaxTemp  MinTemp        Date  day  month  year  season    datetime  \\\n",
       "562         24        0  1877-01-21   21      1  1877  Winter  1877-01-21   \n",
       "8148        13      -14   1/27/1961   27      1  1961  Winter  1961-01-27   \n",
       "1375         7      -28  1886-01-22   22      1  1886  Winter  1886-01-22   \n",
       "7581        27        9    1/2/1955    2      1  1955  Winter  1955-01-02   \n",
       "11743       33       27   1/12/2001   12      1  2001  Winter  2001-01-12   \n",
       "\n",
       "       AveTemp  HighLowDiff  \n",
       "562       12.0           24  \n",
       "8148      -0.5           27  \n",
       "1375     -10.5           35  \n",
       "7581      18.0           18  \n",
       "11743     30.0            6  "
      ]
     },
     "execution_count": 5,
     "metadata": {},
     "output_type": "execute_result"
    }
   ],
   "source": [
    "# add column with average tempature\n",
    "temps['AveTemp'] = (temps['MaxTemp'] + temps['MinTemp']) / 2\n",
    "# add column with differance between High and Low Temp\n",
    "temps['HighLowDiff'] = (temps['MaxTemp'] - temps['MinTemp'])\n",
    "# Show sample \n",
    "temps.sample(5)\n",
    "# subset just winter\n",
    "winter = temps[temps['season']=='Winter']\n",
    "winter.sample(5)\n",
    "# Now just segment out January\n",
    "jan = winter[winter['month']==1]\n",
    "# Show sample\n",
    "jan.sample(5)"
   ]
  },
  {
   "cell_type": "markdown",
   "metadata": {},
   "source": [
    "Show sum stats for January"
   ]
  },
  {
   "cell_type": "code",
   "execution_count": 6,
   "metadata": {},
   "outputs": [
    {
     "data": {
      "text/html": [
       "<div>\n",
       "<style scoped>\n",
       "    .dataframe tbody tr th:only-of-type {\n",
       "        vertical-align: middle;\n",
       "    }\n",
       "\n",
       "    .dataframe tbody tr th {\n",
       "        vertical-align: top;\n",
       "    }\n",
       "\n",
       "    .dataframe thead th {\n",
       "        text-align: right;\n",
       "    }\n",
       "</style>\n",
       "<table border=\"1\" class=\"dataframe\">\n",
       "  <thead>\n",
       "    <tr style=\"text-align: right;\">\n",
       "      <th></th>\n",
       "      <th>MaxTemp</th>\n",
       "      <th>MinTemp</th>\n",
       "      <th>day</th>\n",
       "      <th>month</th>\n",
       "      <th>year</th>\n",
       "      <th>AveTemp</th>\n",
       "      <th>HighLowDiff</th>\n",
       "    </tr>\n",
       "  </thead>\n",
       "  <tbody>\n",
       "    <tr>\n",
       "      <th>count</th>\n",
       "      <td>4588.000000</td>\n",
       "      <td>4588.000000</td>\n",
       "      <td>4588.000000</td>\n",
       "      <td>4588.0</td>\n",
       "      <td>4588.000000</td>\n",
       "      <td>4588.000000</td>\n",
       "      <td>4588.000000</td>\n",
       "    </tr>\n",
       "    <tr>\n",
       "      <th>mean</th>\n",
       "      <td>21.820837</td>\n",
       "      <td>4.776373</td>\n",
       "      <td>16.000000</td>\n",
       "      <td>1.0</td>\n",
       "      <td>1946.500000</td>\n",
       "      <td>13.298605</td>\n",
       "      <td>17.044464</td>\n",
       "    </tr>\n",
       "    <tr>\n",
       "      <th>std</th>\n",
       "      <td>13.446458</td>\n",
       "      <td>14.620544</td>\n",
       "      <td>8.945247</td>\n",
       "      <td>0.0</td>\n",
       "      <td>42.727601</td>\n",
       "      <td>13.521527</td>\n",
       "      <td>7.603181</td>\n",
       "    </tr>\n",
       "    <tr>\n",
       "      <th>min</th>\n",
       "      <td>-20.000000</td>\n",
       "      <td>-41.000000</td>\n",
       "      <td>1.000000</td>\n",
       "      <td>1.0</td>\n",
       "      <td>1873.000000</td>\n",
       "      <td>-29.000000</td>\n",
       "      <td>1.000000</td>\n",
       "    </tr>\n",
       "    <tr>\n",
       "      <th>25%</th>\n",
       "      <td>12.000000</td>\n",
       "      <td>-6.000000</td>\n",
       "      <td>8.000000</td>\n",
       "      <td>1.0</td>\n",
       "      <td>1909.750000</td>\n",
       "      <td>3.500000</td>\n",
       "      <td>12.000000</td>\n",
       "    </tr>\n",
       "    <tr>\n",
       "      <th>50%</th>\n",
       "      <td>23.000000</td>\n",
       "      <td>5.000000</td>\n",
       "      <td>16.000000</td>\n",
       "      <td>1.0</td>\n",
       "      <td>1946.500000</td>\n",
       "      <td>14.500000</td>\n",
       "      <td>16.000000</td>\n",
       "    </tr>\n",
       "    <tr>\n",
       "      <th>75%</th>\n",
       "      <td>32.000000</td>\n",
       "      <td>16.000000</td>\n",
       "      <td>24.000000</td>\n",
       "      <td>1.0</td>\n",
       "      <td>1983.250000</td>\n",
       "      <td>24.000000</td>\n",
       "      <td>21.000000</td>\n",
       "    </tr>\n",
       "    <tr>\n",
       "      <th>max</th>\n",
       "      <td>58.000000</td>\n",
       "      <td>42.000000</td>\n",
       "      <td>31.000000</td>\n",
       "      <td>1.0</td>\n",
       "      <td>2020.000000</td>\n",
       "      <td>50.000000</td>\n",
       "      <td>49.000000</td>\n",
       "    </tr>\n",
       "  </tbody>\n",
       "</table>\n",
       "</div>"
      ],
      "text/plain": [
       "           MaxTemp      MinTemp          day   month         year  \\\n",
       "count  4588.000000  4588.000000  4588.000000  4588.0  4588.000000   \n",
       "mean     21.820837     4.776373    16.000000     1.0  1946.500000   \n",
       "std      13.446458    14.620544     8.945247     0.0    42.727601   \n",
       "min     -20.000000   -41.000000     1.000000     1.0  1873.000000   \n",
       "25%      12.000000    -6.000000     8.000000     1.0  1909.750000   \n",
       "50%      23.000000     5.000000    16.000000     1.0  1946.500000   \n",
       "75%      32.000000    16.000000    24.000000     1.0  1983.250000   \n",
       "max      58.000000    42.000000    31.000000     1.0  2020.000000   \n",
       "\n",
       "           AveTemp  HighLowDiff  \n",
       "count  4588.000000  4588.000000  \n",
       "mean     13.298605    17.044464  \n",
       "std      13.521527     7.603181  \n",
       "min     -29.000000     1.000000  \n",
       "25%       3.500000    12.000000  \n",
       "50%      14.500000    16.000000  \n",
       "75%      24.000000    21.000000  \n",
       "max      50.000000    49.000000  "
      ]
     },
     "execution_count": 6,
     "metadata": {},
     "output_type": "execute_result"
    }
   ],
   "source": [
    "jan.describe()"
   ]
  },
  {
   "cell_type": "markdown",
   "metadata": {},
   "source": [
    "# Global Tempature Changes\n",
    "Has global warming changed the average tempatures in Minneapolis over the last 100 years?\n"
   ]
  },
  {
   "cell_type": "code",
   "execution_count": 7,
   "metadata": {},
   "outputs": [
    {
     "data": {
      "text/html": [
       "<div>\n",
       "<style scoped>\n",
       "    .dataframe tbody tr th:only-of-type {\n",
       "        vertical-align: middle;\n",
       "    }\n",
       "\n",
       "    .dataframe tbody tr th {\n",
       "        vertical-align: top;\n",
       "    }\n",
       "\n",
       "    .dataframe thead th {\n",
       "        text-align: right;\n",
       "    }\n",
       "</style>\n",
       "<table border=\"1\" class=\"dataframe\">\n",
       "  <thead>\n",
       "    <tr style=\"text-align: right;\">\n",
       "      <th></th>\n",
       "      <th>MaxTemp</th>\n",
       "      <th>MinTemp</th>\n",
       "      <th>Date</th>\n",
       "      <th>day</th>\n",
       "      <th>month</th>\n",
       "      <th>year</th>\n",
       "      <th>season</th>\n",
       "      <th>datetime</th>\n",
       "      <th>AveTemp</th>\n",
       "      <th>HighLowDiff</th>\n",
       "    </tr>\n",
       "  </thead>\n",
       "  <tbody>\n",
       "    <tr>\n",
       "      <th>4896</th>\n",
       "      <td>34</td>\n",
       "      <td>18</td>\n",
       "      <td>1/24/1925</td>\n",
       "      <td>24</td>\n",
       "      <td>1</td>\n",
       "      <td>1925</td>\n",
       "      <td>Winter</td>\n",
       "      <td>1925-01-24</td>\n",
       "      <td>26.0</td>\n",
       "      <td>16</td>\n",
       "    </tr>\n",
       "  </tbody>\n",
       "</table>\n",
       "</div>"
      ],
      "text/plain": [
       "      MaxTemp  MinTemp       Date  day  month  year  season    datetime  \\\n",
       "4896       34       18  1/24/1925   24      1  1925  Winter  1925-01-24   \n",
       "\n",
       "      AveTemp  HighLowDiff  \n",
       "4896     26.0           16  "
      ]
     },
     "execution_count": 7,
     "metadata": {},
     "output_type": "execute_result"
    }
   ],
   "source": [
    "jan.sample()"
   ]
  },
  {
   "cell_type": "code",
   "execution_count": 8,
   "metadata": {},
   "outputs": [
    {
     "name": "stderr",
     "output_type": "stream",
     "text": [
      "<ipython-input-8-96ebb24c774d>:5: SettingWithCopyWarning: \n",
      "A value is trying to be set on a copy of a slice from a DataFrame.\n",
      "Try using .loc[row_indexer,col_indexer] = value instead\n",
      "\n",
      "See the caveats in the documentation: https://pandas.pydata.org/pandas-docs/stable/user_guide/indexing.html#returning-a-view-versus-a-copy\n",
      "  old_times['time'] = '1890-1920'\n",
      "<ipython-input-8-96ebb24c774d>:6: SettingWithCopyWarning: \n",
      "A value is trying to be set on a copy of a slice from a DataFrame.\n",
      "Try using .loc[row_indexer,col_indexer] = value instead\n",
      "\n",
      "See the caveats in the documentation: https://pandas.pydata.org/pandas-docs/stable/user_guide/indexing.html#returning-a-view-versus-a-copy\n",
      "  old_times['split'] = 'old'\n",
      "<ipython-input-8-96ebb24c774d>:9: SettingWithCopyWarning: \n",
      "A value is trying to be set on a copy of a slice from a DataFrame.\n",
      "Try using .loc[row_indexer,col_indexer] = value instead\n",
      "\n",
      "See the caveats in the documentation: https://pandas.pydata.org/pandas-docs/stable/user_guide/indexing.html#returning-a-view-versus-a-copy\n",
      "  present['time']='1990-2020'\n",
      "<ipython-input-8-96ebb24c774d>:10: SettingWithCopyWarning: \n",
      "A value is trying to be set on a copy of a slice from a DataFrame.\n",
      "Try using .loc[row_indexer,col_indexer] = value instead\n",
      "\n",
      "See the caveats in the documentation: https://pandas.pydata.org/pandas-docs/stable/user_guide/indexing.html#returning-a-view-versus-a-copy\n",
      "  present['split']='present'\n"
     ]
    },
    {
     "data": {
      "text/html": [
       "<div>\n",
       "<style scoped>\n",
       "    .dataframe tbody tr th:only-of-type {\n",
       "        vertical-align: middle;\n",
       "    }\n",
       "\n",
       "    .dataframe tbody tr th {\n",
       "        vertical-align: top;\n",
       "    }\n",
       "\n",
       "    .dataframe thead th {\n",
       "        text-align: right;\n",
       "    }\n",
       "</style>\n",
       "<table border=\"1\" class=\"dataframe\">\n",
       "  <thead>\n",
       "    <tr style=\"text-align: right;\">\n",
       "      <th></th>\n",
       "      <th>MaxTemp</th>\n",
       "      <th>MinTemp</th>\n",
       "      <th>Date</th>\n",
       "      <th>day</th>\n",
       "      <th>month</th>\n",
       "      <th>year</th>\n",
       "      <th>season</th>\n",
       "      <th>datetime</th>\n",
       "      <th>AveTemp</th>\n",
       "      <th>HighLowDiff</th>\n",
       "      <th>time</th>\n",
       "      <th>split</th>\n",
       "    </tr>\n",
       "  </thead>\n",
       "  <tbody>\n",
       "    <tr>\n",
       "      <th>1715</th>\n",
       "      <td>31</td>\n",
       "      <td>10</td>\n",
       "      <td>1890-01-01</td>\n",
       "      <td>1</td>\n",
       "      <td>1</td>\n",
       "      <td>1890</td>\n",
       "      <td>Winter</td>\n",
       "      <td>1890-01-01</td>\n",
       "      <td>20.5</td>\n",
       "      <td>21</td>\n",
       "      <td>1890-1920</td>\n",
       "      <td>old</td>\n",
       "    </tr>\n",
       "    <tr>\n",
       "      <th>1716</th>\n",
       "      <td>10</td>\n",
       "      <td>-8</td>\n",
       "      <td>1890-01-02</td>\n",
       "      <td>2</td>\n",
       "      <td>1</td>\n",
       "      <td>1890</td>\n",
       "      <td>Winter</td>\n",
       "      <td>1890-01-02</td>\n",
       "      <td>1.0</td>\n",
       "      <td>18</td>\n",
       "      <td>1890-1920</td>\n",
       "      <td>old</td>\n",
       "    </tr>\n",
       "    <tr>\n",
       "      <th>1717</th>\n",
       "      <td>10</td>\n",
       "      <td>-12</td>\n",
       "      <td>1890-01-03</td>\n",
       "      <td>3</td>\n",
       "      <td>1</td>\n",
       "      <td>1890</td>\n",
       "      <td>Winter</td>\n",
       "      <td>1890-01-03</td>\n",
       "      <td>-1.0</td>\n",
       "      <td>22</td>\n",
       "      <td>1890-1920</td>\n",
       "      <td>old</td>\n",
       "    </tr>\n",
       "    <tr>\n",
       "      <th>1718</th>\n",
       "      <td>21</td>\n",
       "      <td>10</td>\n",
       "      <td>1890-01-04</td>\n",
       "      <td>4</td>\n",
       "      <td>1</td>\n",
       "      <td>1890</td>\n",
       "      <td>Winter</td>\n",
       "      <td>1890-01-04</td>\n",
       "      <td>15.5</td>\n",
       "      <td>11</td>\n",
       "      <td>1890-1920</td>\n",
       "      <td>old</td>\n",
       "    </tr>\n",
       "    <tr>\n",
       "      <th>1719</th>\n",
       "      <td>13</td>\n",
       "      <td>4</td>\n",
       "      <td>1890-01-05</td>\n",
       "      <td>5</td>\n",
       "      <td>1</td>\n",
       "      <td>1890</td>\n",
       "      <td>Winter</td>\n",
       "      <td>1890-01-05</td>\n",
       "      <td>8.5</td>\n",
       "      <td>9</td>\n",
       "      <td>1890-1920</td>\n",
       "      <td>old</td>\n",
       "    </tr>\n",
       "  </tbody>\n",
       "</table>\n",
       "</div>"
      ],
      "text/plain": [
       "      MaxTemp  MinTemp        Date  day  month  year  season    datetime  \\\n",
       "1715       31       10  1890-01-01    1      1  1890  Winter  1890-01-01   \n",
       "1716       10       -8  1890-01-02    2      1  1890  Winter  1890-01-02   \n",
       "1717       10      -12  1890-01-03    3      1  1890  Winter  1890-01-03   \n",
       "1718       21       10  1890-01-04    4      1  1890  Winter  1890-01-04   \n",
       "1719       13        4  1890-01-05    5      1  1890  Winter  1890-01-05   \n",
       "\n",
       "      AveTemp  HighLowDiff       time split  \n",
       "1715     20.5           21  1890-1920   old  \n",
       "1716      1.0           18  1890-1920   old  \n",
       "1717     -1.0           22  1890-1920   old  \n",
       "1718     15.5           11  1890-1920   old  \n",
       "1719      8.5            9  1890-1920   old  "
      ]
     },
     "execution_count": 8,
     "metadata": {},
     "output_type": "execute_result"
    }
   ],
   "source": [
    "# make df based on dates\n",
    "#old_times = \n",
    "# Old times for years 1890-1920\n",
    "old_times = jan.query(\"(year > 1889) and (year < 1921)\")\n",
    "old_times['time'] = '1890-1920'\n",
    "old_times['split'] = 'old'\n",
    "# Present for years 1990-1920\n",
    "present = jan.query(\"(year > 1989) and (year < 2021)\")\n",
    "present['time']='1990-2020'\n",
    "present['split']='present'\n",
    "\n",
    "# concat back into one df\n",
    "old_and_present = pd.concat([old_times,present])\n",
    "old_and_present.head()"
   ]
  },
  {
   "cell_type": "markdown",
   "metadata": {},
   "source": [
    "Violin Plot of average Tempatures in 1890-1920 time peroid vs 1990-2020 time peroid."
   ]
  },
  {
   "cell_type": "code",
   "execution_count": 9,
   "metadata": {},
   "outputs": [
    {
     "data": {
      "text/plain": [
       "Text(0.5, 1.0, 'Average January Daily Tempature in Minneapolis, MN 1890-1920 vs 1990-1920')"
      ]
     },
     "execution_count": 9,
     "metadata": {},
     "output_type": "execute_result"
    },
    {
     "data": {
      "image/png": "[encoded data removed]",
      "text/plain": [
       "<Figure size 432x288 with 1 Axes>"
      ]
     },
     "metadata": {
      "needs_background": "light"
     },
     "output_type": "display_data"
    }
   ],
   "source": [
    "import matplotlib.pyplot as plt\n",
    "#violin plot\n",
    "ax = sns.violinplot(x=['Temps']*len(old_and_present),\n",
    "                    y=\"AveTemp\",hue='time',data=old_and_present,\n",
    "                    split=True,palette='Blues',inner=\"quart\",)\n",
    "plt.title('Average January Daily Tempature in Minneapolis, MN 1890-1920 vs 1990-1920')\n",
    "                    \n",
    "                   \n",
    "\n",
    "\n",
    "    # Draw a nested violinplot and split the violins for easier comparison\n",
    "#sns.violinplot(x=['Data']*len(tips),y=\"total_bill\", hue=\"smoker\",\n",
    "               #split=True, inner=\"quart\",\n",
    "               #palette={\"Yes\": \"y\", \"No\": \"b\"},\n",
    "               #data=tips)\n",
    "#sns.despine(left=True)"
   ]
  },
  {
   "cell_type": "markdown",
   "metadata": {},
   "source": [
    "Box Plot of average Tempatures in 1890-1920 time peroid vs 1990-2020 time peroid."
   ]
  },
  {
   "cell_type": "code",
   "execution_count": 10,
   "metadata": {},
   "outputs": [
    {
     "data": {
      "text/plain": [
       "Text(0.5, 1.0, 'Average January Daily Tempature in Minneapolis, MN 1890-1920 vs 1990-1920')"
      ]
     },
     "execution_count": 10,
     "metadata": {},
     "output_type": "execute_result"
    },
    {
     "data": {
      "image/png": "[encoded data removed]",
      "text/plain": [
       "<Figure size 432x288 with 1 Axes>"
      ]
     },
     "metadata": {},
     "output_type": "display_data"
    }
   ],
   "source": [
    "# boxplot\n",
    "sns.color_palette('deep')\n",
    "sns.set_style('darkgrid')\n",
    "\n",
    "ax = sns.boxplot(x=\"time\",y=\"AveTemp\",data=old_and_present,palette='Blues')\n",
    "plt.title('Average January Daily Tempature in Minneapolis, MN 1890-1920 vs 1990-1920')"
   ]
  },
  {
   "cell_type": "markdown",
   "metadata": {},
   "source": [
    "Find rempature trend in summer"
   ]
  },
  {
   "cell_type": "code",
   "execution_count": 11,
   "metadata": {},
   "outputs": [
    {
     "data": {
      "text/plain": [
       "year\n",
       "1872    60.0\n",
       "1873    72.5\n",
       "1874    79.0\n",
       "1875    79.0\n",
       "1876    66.5\n",
       "        ... \n",
       "2016    76.0\n",
       "2017    83.5\n",
       "2018    81.0\n",
       "2019    79.0\n",
       "2020    73.0\n",
       "Name: AveTemp, Length: 149, dtype: float64"
      ]
     },
     "execution_count": 11,
     "metadata": {},
     "output_type": "execute_result"
    }
   ],
   "source": [
    "# query to segment out summer\n",
    "temps.loc[100:].query(\"season =='Fall'\").groupby('year')['AveTemp'].max()"
   ]
  },
  {
   "cell_type": "code",
   "execution_count": 12,
   "metadata": {},
   "outputs": [
    {
     "data": {
      "text/plain": [
       "MaxTemp          int64\n",
       "MinTemp          int64\n",
       "Date            object\n",
       "day              int64\n",
       "month            int64\n",
       "year             int64\n",
       "season          object\n",
       "datetime        object\n",
       "AveTemp        float64\n",
       "HighLowDiff      int64\n",
       "dtype: object"
      ]
     },
     "execution_count": 12,
     "metadata": {},
     "output_type": "execute_result"
    }
   ],
   "source": [
    "temps.dtypes"
   ]
  },
  {
   "cell_type": "code",
   "execution_count": 13,
   "metadata": {},
   "outputs": [
    {
     "data": {
      "image/png": "[encoded data removed]",
      "text/plain": [
       "<Figure size 432x288 with 1 Axes>"
      ]
     },
     "metadata": {},
     "output_type": "display_data"
    }
   ],
   "source": [
    "tips = sns.load_dataset(\"tips\")\n",
    "\n",
    "ax = sns.violinplot(x=\"day\", y=\"total_bill\", data=tips)"
   ]
  },
  {
   "cell_type": "code",
   "execution_count": 14,
   "metadata": {},
   "outputs": [
    {
     "data": {
      "text/plain": [
       "MaxTemp           int64\n",
       "MinTemp           int64\n",
       "Date             object\n",
       "day               int64\n",
       "month             int64\n",
       "year              int64\n",
       "season           object\n",
       "datetime         object\n",
       "AveTemp         float64\n",
       "HighLowDiff       int64\n",
       "cat            category\n",
       "dtype: object"
      ]
     },
     "execution_count": 14,
     "metadata": {},
     "output_type": "execute_result"
    }
   ],
   "source": [
    "# convert string to catogory\n",
    "temps['cat'] = temps['season'].astype(\"category\")\n",
    "temps.dtypes"
   ]
  },
  {
   "cell_type": "code",
   "execution_count": 15,
   "metadata": {},
   "outputs": [
    {
     "data": {
      "text/html": [
       "<div>\n",
       "<style scoped>\n",
       "    .dataframe tbody tr th:only-of-type {\n",
       "        vertical-align: middle;\n",
       "    }\n",
       "\n",
       "    .dataframe tbody tr th {\n",
       "        vertical-align: top;\n",
       "    }\n",
       "\n",
       "    .dataframe thead th {\n",
       "        text-align: right;\n",
       "    }\n",
       "</style>\n",
       "<table border=\"1\" class=\"dataframe\">\n",
       "  <thead>\n",
       "    <tr style=\"text-align: right;\">\n",
       "      <th></th>\n",
       "      <th>MaxTemp</th>\n",
       "      <th>MinTemp</th>\n",
       "      <th>Date</th>\n",
       "      <th>day</th>\n",
       "      <th>month</th>\n",
       "      <th>year</th>\n",
       "      <th>datetime</th>\n",
       "      <th>AveTemp</th>\n",
       "      <th>HighLowDiff</th>\n",
       "      <th>cat</th>\n",
       "    </tr>\n",
       "    <tr>\n",
       "      <th>season</th>\n",
       "      <th></th>\n",
       "      <th></th>\n",
       "      <th></th>\n",
       "      <th></th>\n",
       "      <th></th>\n",
       "      <th></th>\n",
       "      <th></th>\n",
       "      <th></th>\n",
       "      <th></th>\n",
       "      <th></th>\n",
       "    </tr>\n",
       "  </thead>\n",
       "  <tbody>\n",
       "    <tr>\n",
       "      <th>Fall</th>\n",
       "      <td>13529</td>\n",
       "      <td>13529</td>\n",
       "      <td>13529</td>\n",
       "      <td>13529</td>\n",
       "      <td>13529</td>\n",
       "      <td>13529</td>\n",
       "      <td>13529</td>\n",
       "      <td>13529</td>\n",
       "      <td>13529</td>\n",
       "      <td>13529</td>\n",
       "    </tr>\n",
       "    <tr>\n",
       "      <th>Spring</th>\n",
       "      <td>13615</td>\n",
       "      <td>13615</td>\n",
       "      <td>13615</td>\n",
       "      <td>13615</td>\n",
       "      <td>13615</td>\n",
       "      <td>13615</td>\n",
       "      <td>13615</td>\n",
       "      <td>13615</td>\n",
       "      <td>13615</td>\n",
       "      <td>13615</td>\n",
       "    </tr>\n",
       "    <tr>\n",
       "      <th>Summer</th>\n",
       "      <td>13616</td>\n",
       "      <td>13616</td>\n",
       "      <td>13616</td>\n",
       "      <td>13616</td>\n",
       "      <td>13616</td>\n",
       "      <td>13616</td>\n",
       "      <td>13616</td>\n",
       "      <td>13616</td>\n",
       "      <td>13616</td>\n",
       "      <td>13616</td>\n",
       "    </tr>\n",
       "    <tr>\n",
       "      <th>Winter</th>\n",
       "      <td>13387</td>\n",
       "      <td>13387</td>\n",
       "      <td>13387</td>\n",
       "      <td>13387</td>\n",
       "      <td>13387</td>\n",
       "      <td>13387</td>\n",
       "      <td>13387</td>\n",
       "      <td>13387</td>\n",
       "      <td>13387</td>\n",
       "      <td>13387</td>\n",
       "    </tr>\n",
       "  </tbody>\n",
       "</table>\n",
       "</div>"
      ],
      "text/plain": [
       "        MaxTemp  MinTemp   Date    day  month   year  datetime  AveTemp  \\\n",
       "season                                                                    \n",
       "Fall      13529    13529  13529  13529  13529  13529     13529    13529   \n",
       "Spring    13615    13615  13615  13615  13615  13615     13615    13615   \n",
       "Summer    13616    13616  13616  13616  13616  13616     13616    13616   \n",
       "Winter    13387    13387  13387  13387  13387  13387     13387    13387   \n",
       "\n",
       "        HighLowDiff    cat  \n",
       "season                      \n",
       "Fall          13529  13529  \n",
       "Spring        13615  13615  \n",
       "Summer        13616  13616  \n",
       "Winter        13387  13387  "
      ]
     },
     "execution_count": 15,
     "metadata": {},
     "output_type": "execute_result"
    }
   ],
   "source": [
    "temps.groupby('season').count()"
   ]
  },
  {
   "cell_type": "code",
   "execution_count": 16,
   "metadata": {},
   "outputs": [
    {
     "data": {
      "image/png": "[encoded data removed]",
      "text/plain": [
       "<Figure size 432x288 with 1 Axes>"
      ]
     },
     "metadata": {},
     "output_type": "display_data"
    }
   ],
   "source": [
    "ax=sns.violinplot(x=temps['season'],y=temps['AveTemp'],palette='Paired_r')"
   ]
  },
  {
   "cell_type": "markdown",
   "metadata": {},
   "source": [
    "tempature patterns in diff seasons"
   ]
  },
  {
   "cell_type": "markdown",
   "metadata": {},
   "source": [
    "historically what has the tempature been on January 18th?"
   ]
  },
  {
   "cell_type": "code",
   "execution_count": 17,
   "metadata": {},
   "outputs": [
    {
     "data": {
      "text/plain": [
       "MaxTemp          21.945946\n",
       "MinTemp           3.966216\n",
       "day              19.000000\n",
       "month             1.000000\n",
       "year           1946.500000\n",
       "AveTemp          12.956081\n",
       "HighLowDiff      17.979730\n",
       "dtype: float64"
      ]
     },
     "execution_count": 17,
     "metadata": {},
     "output_type": "execute_result"
    }
   ],
   "source": [
    "jan.query(\"(day == '19') and (month=='1')\").mean()"
   ]
  },
  {
   "cell_type": "code",
   "execution_count": 18,
   "metadata": {},
   "outputs": [
    {
     "data": {
      "text/plain": [
       "MaxTemp          22.033784\n",
       "MinTemp           5.479730\n",
       "day              20.000000\n",
       "month             1.000000\n",
       "year           1946.500000\n",
       "AveTemp          13.756757\n",
       "HighLowDiff      16.554054\n",
       "dtype: float64"
      ]
     },
     "execution_count": 18,
     "metadata": {},
     "output_type": "execute_result"
    }
   ],
   "source": [
    "jan.query(\"(day == '20') and (month=='1')\").mean()"
   ]
  },
  {
   "cell_type": "code",
   "execution_count": 19,
   "metadata": {},
   "outputs": [
    {
     "data": {
      "text/html": [
       "<div>\n",
       "<style scoped>\n",
       "    .dataframe tbody tr th:only-of-type {\n",
       "        vertical-align: middle;\n",
       "    }\n",
       "\n",
       "    .dataframe tbody tr th {\n",
       "        vertical-align: top;\n",
       "    }\n",
       "\n",
       "    .dataframe thead th {\n",
       "        text-align: right;\n",
       "    }\n",
       "</style>\n",
       "<table border=\"1\" class=\"dataframe\">\n",
       "  <thead>\n",
       "    <tr style=\"text-align: right;\">\n",
       "      <th></th>\n",
       "      <th>MaxTemp</th>\n",
       "      <th>MinTemp</th>\n",
       "      <th>day</th>\n",
       "      <th>month</th>\n",
       "      <th>year</th>\n",
       "      <th>AveTemp</th>\n",
       "      <th>HighLowDiff</th>\n",
       "    </tr>\n",
       "  </thead>\n",
       "  <tbody>\n",
       "    <tr>\n",
       "      <th>count</th>\n",
       "      <td>1581.000000</td>\n",
       "      <td>1581.000000</td>\n",
       "      <td>1581.000000</td>\n",
       "      <td>1581.0</td>\n",
       "      <td>1581.000000</td>\n",
       "      <td>1581.000000</td>\n",
       "      <td>1581.000000</td>\n",
       "    </tr>\n",
       "    <tr>\n",
       "      <th>mean</th>\n",
       "      <td>22.545857</td>\n",
       "      <td>6.213789</td>\n",
       "      <td>16.000000</td>\n",
       "      <td>1.0</td>\n",
       "      <td>1995.000000</td>\n",
       "      <td>14.379823</td>\n",
       "      <td>16.332068</td>\n",
       "    </tr>\n",
       "    <tr>\n",
       "      <th>std</th>\n",
       "      <td>12.917360</td>\n",
       "      <td>14.413947</td>\n",
       "      <td>8.947102</td>\n",
       "      <td>0.0</td>\n",
       "      <td>14.724259</td>\n",
       "      <td>13.164290</td>\n",
       "      <td>7.486387</td>\n",
       "    </tr>\n",
       "    <tr>\n",
       "      <th>min</th>\n",
       "      <td>-16.000000</td>\n",
       "      <td>-34.000000</td>\n",
       "      <td>1.000000</td>\n",
       "      <td>1.0</td>\n",
       "      <td>1970.000000</td>\n",
       "      <td>-22.000000</td>\n",
       "      <td>1.000000</td>\n",
       "    </tr>\n",
       "    <tr>\n",
       "      <th>25%</th>\n",
       "      <td>13.000000</td>\n",
       "      <td>-5.000000</td>\n",
       "      <td>8.000000</td>\n",
       "      <td>1.0</td>\n",
       "      <td>1982.000000</td>\n",
       "      <td>4.500000</td>\n",
       "      <td>11.000000</td>\n",
       "    </tr>\n",
       "    <tr>\n",
       "      <th>50%</th>\n",
       "      <td>24.000000</td>\n",
       "      <td>7.000000</td>\n",
       "      <td>16.000000</td>\n",
       "      <td>1.0</td>\n",
       "      <td>1995.000000</td>\n",
       "      <td>15.500000</td>\n",
       "      <td>15.000000</td>\n",
       "    </tr>\n",
       "    <tr>\n",
       "      <th>75%</th>\n",
       "      <td>33.000000</td>\n",
       "      <td>18.000000</td>\n",
       "      <td>24.000000</td>\n",
       "      <td>1.0</td>\n",
       "      <td>2008.000000</td>\n",
       "      <td>25.000000</td>\n",
       "      <td>21.000000</td>\n",
       "    </tr>\n",
       "    <tr>\n",
       "      <th>max</th>\n",
       "      <td>57.000000</td>\n",
       "      <td>37.000000</td>\n",
       "      <td>31.000000</td>\n",
       "      <td>1.0</td>\n",
       "      <td>2020.000000</td>\n",
       "      <td>42.500000</td>\n",
       "      <td>49.000000</td>\n",
       "    </tr>\n",
       "  </tbody>\n",
       "</table>\n",
       "</div>"
      ],
      "text/plain": [
       "           MaxTemp      MinTemp          day   month         year  \\\n",
       "count  1581.000000  1581.000000  1581.000000  1581.0  1581.000000   \n",
       "mean     22.545857     6.213789    16.000000     1.0  1995.000000   \n",
       "std      12.917360    14.413947     8.947102     0.0    14.724259   \n",
       "min     -16.000000   -34.000000     1.000000     1.0  1970.000000   \n",
       "25%      13.000000    -5.000000     8.000000     1.0  1982.000000   \n",
       "50%      24.000000     7.000000    16.000000     1.0  1995.000000   \n",
       "75%      33.000000    18.000000    24.000000     1.0  2008.000000   \n",
       "max      57.000000    37.000000    31.000000     1.0  2020.000000   \n",
       "\n",
       "           AveTemp  HighLowDiff  \n",
       "count  1581.000000  1581.000000  \n",
       "mean     14.379823    16.332068  \n",
       "std      13.164290     7.486387  \n",
       "min     -22.000000     1.000000  \n",
       "25%       4.500000    11.000000  \n",
       "50%      15.500000    15.000000  \n",
       "75%      25.000000    21.000000  \n",
       "max      42.500000    49.000000  "
      ]
     },
     "execution_count": 19,
     "metadata": {},
     "output_type": "execute_result"
    }
   ],
   "source": [
    "# query for january from 1970 to present\n",
    "jan.query(\"(year > 1969)\").describe()"
   ]
  },
  {
   "cell_type": "markdown",
   "metadata": {},
   "source": [
    "Yearly Tempature"
   ]
  },
  {
   "cell_type": "code",
   "execution_count": 20,
   "metadata": {},
   "outputs": [],
   "source": [
    "# query years 1970-2020\n",
    "df_1970_2020 = temps.query(\"(year < 2021) and (year > 1969)\")\n",
    "# query years 1920-1970\n",
    "df_1920_1970 = temps.query(\"(year < 1970) and (year > 1919)\")\n",
    "# query years 1880 - 2020\n",
    "df_1880_1920 = temps.query(\"(year < 1920) and (year > 1970)\")\n"
   ]
  },
  {
   "cell_type": "code",
   "execution_count": 22,
   "metadata": {},
   "outputs": [
    {
     "data": {
      "text/html": [
       "<div>\n",
       "<style scoped>\n",
       "    .dataframe tbody tr th:only-of-type {\n",
       "        vertical-align: middle;\n",
       "    }\n",
       "\n",
       "    .dataframe tbody tr th {\n",
       "        vertical-align: top;\n",
       "    }\n",
       "\n",
       "    .dataframe thead th {\n",
       "        text-align: right;\n",
       "    }\n",
       "</style>\n",
       "<table border=\"1\" class=\"dataframe\">\n",
       "  <thead>\n",
       "    <tr style=\"text-align: right;\">\n",
       "      <th></th>\n",
       "      <th>MaxTemp</th>\n",
       "      <th>MinTemp</th>\n",
       "      <th>Date</th>\n",
       "      <th>day</th>\n",
       "      <th>month</th>\n",
       "      <th>year</th>\n",
       "      <th>season</th>\n",
       "      <th>datetime</th>\n",
       "      <th>AveTemp</th>\n",
       "      <th>HighLowDiff</th>\n",
       "      <th>cat</th>\n",
       "    </tr>\n",
       "  </thead>\n",
       "  <tbody>\n",
       "    <tr>\n",
       "      <th>10975</th>\n",
       "      <td>45</td>\n",
       "      <td>19</td>\n",
       "      <td>2/26/1992</td>\n",
       "      <td>26</td>\n",
       "      <td>2</td>\n",
       "      <td>1992</td>\n",
       "      <td>Winter</td>\n",
       "      <td>1992-02-26</td>\n",
       "      <td>32.0</td>\n",
       "      <td>26</td>\n",
       "      <td>Winter</td>\n",
       "    </tr>\n",
       "  </tbody>\n",
       "</table>\n",
       "</div>"
      ],
      "text/plain": [
       "       MaxTemp  MinTemp       Date  day  month  year  season    datetime  \\\n",
       "10975       45       19  2/26/1992   26      2  1992  Winter  1992-02-26   \n",
       "\n",
       "       AveTemp  HighLowDiff     cat  \n",
       "10975     32.0           26  Winter  "
      ]
     },
     "execution_count": 22,
     "metadata": {},
     "output_type": "execute_result"
    }
   ],
   "source": [
    "# CHECK NEW DF'S\n",
    "df_1970_2020.sample()"
   ]
  },
  {
   "cell_type": "markdown",
   "metadata": {},
   "source": [
    "### SUPER COLD!!!\n",
    "Analysis to compare Polar Vortex of 2018 to Upcoming Artic Air Blast."
   ]
  },
  {
   "cell_type": "code",
   "execution_count": null,
   "metadata": {},
   "outputs": [],
   "source": []
  }
 ],
 "metadata": {
  "kernelspec": {
   "display_name": "Python 3",
   "language": "python",
   "name": "python3"
  },
  "language_info": {
   "codemirror_mode": {
    "name": "ipython",
    "version": 3
   },
   "file_extension": ".py",
   "mimetype": "text/x-python",
   "name": "python",
   "nbconvert_exporter": "python",
   "pygments_lexer": "ipython3",
   "version": "3.8.3"
  }
 },
 "nbformat": 4,
 "nbformat_minor": 4
}
