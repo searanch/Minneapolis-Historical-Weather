{
 "cells": [
  {
   "cell_type": "markdown",
   "metadata": {},
   "source": [
    "### Exploration/Analysis of Minneapolis Winter Weather 1880-2020\n",
    "data sourced from Minnesota DNR"
   ]
  },
  {
   "cell_type": "code",
   "execution_count": 40,
   "metadata": {},
   "outputs": [],
   "source": [
    "#import libraries\n",
    "import pandas as pd"
   ]
  },
  {
   "source": [
    "Start with some data cleaning to prepare for analysis."
   ],
   "cell_type": "markdown",
   "metadata": {}
  },
  {
   "cell_type": "code",
   "execution_count": 41,
   "metadata": {},
   "outputs": [
    {
     "output_type": "execute_result",
     "data": {
      "text/plain": [
       "            Date MaxTemp MinTemp Precip Snow SnowDepth    datetime  day  \\\n",
       "22625  5/12/1969      64      31      0    0         0  1969-05-12   12   \n",
       "\n",
       "       month  year  season  \n",
       "22625      5  1969  Spring  "
      ],
      "text/html": "<div>\n<style scoped>\n    .dataframe tbody tr th:only-of-type {\n        vertical-align: middle;\n    }\n\n    .dataframe tbody tr th {\n        vertical-align: top;\n    }\n\n    .dataframe thead th {\n        text-align: right;\n    }\n</style>\n<table border=\"1\" class=\"dataframe\">\n  <thead>\n    <tr style=\"text-align: right;\">\n      <th></th>\n      <th>Date</th>\n      <th>MaxTemp</th>\n      <th>MinTemp</th>\n      <th>Precip</th>\n      <th>Snow</th>\n      <th>SnowDepth</th>\n      <th>datetime</th>\n      <th>day</th>\n      <th>month</th>\n      <th>year</th>\n      <th>season</th>\n    </tr>\n  </thead>\n  <tbody>\n    <tr>\n      <th>22625</th>\n      <td>5/12/1969</td>\n      <td>64</td>\n      <td>31</td>\n      <td>0</td>\n      <td>0</td>\n      <td>0</td>\n      <td>1969-05-12</td>\n      <td>12</td>\n      <td>5</td>\n      <td>1969</td>\n      <td>Spring</td>\n    </tr>\n  </tbody>\n</table>\n</div>"
     },
     "metadata": {},
     "execution_count": 41
    }
   ],
   "source": [
    "# Load file\n",
    "df = pd.read_csv('data/msp_historical_weather.csv')\n",
    "# Remove first column\n",
    "df = df.drop(columns=['Unnamed: 0'])\n",
    "# Show sample\n",
    "df.sample()\n",
    "#Check datatypes\n",
    "df.dtypes\n",
    "# check for na's\n",
    "df.isnull().sum()\n",
    "# drop where tempature is missing\n",
    "df = df.loc[150:]\n",
    "df.sample()\n",
    "#find and replace T with .01\n",
    "df = df.replace('T',.01)\n",
    "# replace missing values with Nan\n",
    "df = df.replace('M','NaN')\n",
    "# show sample\n",
    "df.sample()"
   ]
  },
  {
   "cell_type": "markdown",
   "metadata": {},
   "source": [
    "Tempature Trends in Winter"
   ]
  },
  {
   "cell_type": "code",
   "execution_count": 43,
   "metadata": {},
   "outputs": [
    {
     "output_type": "execute_result",
     "data": {
      "text/plain": [
       "      MaxTemp MinTemp       Date  day  month  year season    datetime\n",
       "51088      48      36  10/3/1980    3     10  1980   Fall  1980-10-03"
      ],
      "text/html": "<div>\n<style scoped>\n    .dataframe tbody tr th:only-of-type {\n        vertical-align: middle;\n    }\n\n    .dataframe tbody tr th {\n        vertical-align: top;\n    }\n\n    .dataframe thead th {\n        text-align: right;\n    }\n</style>\n<table border=\"1\" class=\"dataframe\">\n  <thead>\n    <tr style=\"text-align: right;\">\n      <th></th>\n      <th>MaxTemp</th>\n      <th>MinTemp</th>\n      <th>Date</th>\n      <th>day</th>\n      <th>month</th>\n      <th>year</th>\n      <th>season</th>\n      <th>datetime</th>\n    </tr>\n  </thead>\n  <tbody>\n    <tr>\n      <th>51088</th>\n      <td>48</td>\n      <td>36</td>\n      <td>10/3/1980</td>\n      <td>3</td>\n      <td>10</td>\n      <td>1980</td>\n      <td>Fall</td>\n      <td>1980-10-03</td>\n    </tr>\n  </tbody>\n</table>\n</div>"
     },
     "metadata": {},
     "execution_count": 43
    }
   ],
   "source": [
    "# Make DF just for tempatures\n",
    "temps = df[['MaxTemp','MinTemp','Date','day','month','year','season','datetime']]\n",
    "# Show sample\n",
    "temps.sample()"
   ]
  },
  {
   "cell_type": "code",
   "execution_count": 44,
   "metadata": {},
   "outputs": [
    {
     "output_type": "execute_result",
     "data": {
      "text/plain": [
       "MaxTemp    int64\n",
       "MinTemp    int64\n",
       "dtype: object"
      ]
     },
     "metadata": {},
     "execution_count": 44
    }
   ],
   "source": [
    "# check for Nan values\n",
    "# Remove NaN\n",
    "just_temps = temps[['MaxTemp','MinTemp']] \n",
    "just_temps=just_temps[(just_temps['MaxTemp']!= 'NaN') & (just_temps['MinTemp'] != 'NaN')]\n",
    "# To numeric\n",
    "just_temps.MaxTemp=pd.to_numeric(just_temps.MaxTemp)\n",
    "just_temps.MinTemp=pd.to_numeric(just_temps.MinTemp)\n",
    "just_temps.dtypes\n"
   ]
  },
  {
   "cell_type": "code",
   "execution_count": 45,
   "metadata": {},
   "outputs": [
    {
     "output_type": "execute_result",
     "data": {
      "text/plain": [
       "MaxTemp      int64\n",
       "MinTemp      int64\n",
       "Date        object\n",
       "day          int64\n",
       "month        int64\n",
       "year         int64\n",
       "season      object\n",
       "datetime    object\n",
       "dtype: object"
      ]
     },
     "metadata": {},
     "execution_count": 45
    }
   ],
   "source": [
    "# Convert temps from Objects to Numbers\n",
    "# Get rid of NaN values\n",
    "temps=temps[(temps['MaxTemp']!= 'NaN') & (temps['MinTemp'] != 'NaN')]\n",
    "# Conver MaxTemp and MinTemp to numerical values\n",
    "temps.MaxTemp=pd.to_numeric(temps.MaxTemp)\n",
    "temps.MinTemp=pd.to_numeric(temps.MinTemp)\n",
    "#Apply to numeric ignoring uneeded columns\n",
    "temps = temps.apply(pd.to_numeric, errors='ignore')\n",
    "# Check dateatypes to confirm that Temps are Integers\n",
    "temps.dtypes"
   ]
  },
  {
   "source": [
    "Now add some information to better inform analysis. Found the average Tempature and high and Low Tempatures."
   ],
   "cell_type": "markdown",
   "metadata": {}
  },
  {
   "cell_type": "code",
   "execution_count": 47,
   "metadata": {},
   "outputs": [
    {
     "output_type": "execute_result",
     "data": {
      "text/plain": [
       "      MaxTemp  MinTemp       Date  day  month  year  season    datetime  \\\n",
       "8212       30        1   1/1/1962    1      1  1962  Winter  1962-01-01   \n",
       "8942        6       -9   1/9/1970    9      1  1970  Winter  1970-01-09   \n",
       "3088       11        0  1/21/1905   21      1  1905  Winter  1905-01-21   \n",
       "6698       32       22  1/21/1945   21      1  1945  Winter  1945-01-21   \n",
       "3274        7      -10  1/27/1907   27      1  1907  Winter  1907-01-27   \n",
       "\n",
       "      AveTemp  HighLowDiff  \n",
       "8212     15.5           29  \n",
       "8942     -1.5           15  \n",
       "3088      5.5           11  \n",
       "6698     27.0           10  \n",
       "3274     -1.5           17  "
      ],
      "text/html": "<div>\n<style scoped>\n    .dataframe tbody tr th:only-of-type {\n        vertical-align: middle;\n    }\n\n    .dataframe tbody tr th {\n        vertical-align: top;\n    }\n\n    .dataframe thead th {\n        text-align: right;\n    }\n</style>\n<table border=\"1\" class=\"dataframe\">\n  <thead>\n    <tr style=\"text-align: right;\">\n      <th></th>\n      <th>MaxTemp</th>\n      <th>MinTemp</th>\n      <th>Date</th>\n      <th>day</th>\n      <th>month</th>\n      <th>year</th>\n      <th>season</th>\n      <th>datetime</th>\n      <th>AveTemp</th>\n      <th>HighLowDiff</th>\n    </tr>\n  </thead>\n  <tbody>\n    <tr>\n      <th>8212</th>\n      <td>30</td>\n      <td>1</td>\n      <td>1/1/1962</td>\n      <td>1</td>\n      <td>1</td>\n      <td>1962</td>\n      <td>Winter</td>\n      <td>1962-01-01</td>\n      <td>15.5</td>\n      <td>29</td>\n    </tr>\n    <tr>\n      <th>8942</th>\n      <td>6</td>\n      <td>-9</td>\n      <td>1/9/1970</td>\n      <td>9</td>\n      <td>1</td>\n      <td>1970</td>\n      <td>Winter</td>\n      <td>1970-01-09</td>\n      <td>-1.5</td>\n      <td>15</td>\n    </tr>\n    <tr>\n      <th>3088</th>\n      <td>11</td>\n      <td>0</td>\n      <td>1/21/1905</td>\n      <td>21</td>\n      <td>1</td>\n      <td>1905</td>\n      <td>Winter</td>\n      <td>1905-01-21</td>\n      <td>5.5</td>\n      <td>11</td>\n    </tr>\n    <tr>\n      <th>6698</th>\n      <td>32</td>\n      <td>22</td>\n      <td>1/21/1945</td>\n      <td>21</td>\n      <td>1</td>\n      <td>1945</td>\n      <td>Winter</td>\n      <td>1945-01-21</td>\n      <td>27.0</td>\n      <td>10</td>\n    </tr>\n    <tr>\n      <th>3274</th>\n      <td>7</td>\n      <td>-10</td>\n      <td>1/27/1907</td>\n      <td>27</td>\n      <td>1</td>\n      <td>1907</td>\n      <td>Winter</td>\n      <td>1907-01-27</td>\n      <td>-1.5</td>\n      <td>17</td>\n    </tr>\n  </tbody>\n</table>\n</div>"
     },
     "metadata": {},
     "execution_count": 47
    }
   ],
   "source": [
    "# add column with average tempature\n",
    "temps['AveTemp'] = (temps['MaxTemp'] + temps['MinTemp']) / 2\n",
    "# add column with differance between High and Low Temp\n",
    "temps['HighLowDiff'] = (temps['MaxTemp'] - temps['MinTemp'])\n",
    "# Show sample \n",
    "temps.sample(5)\n",
    "# subset just winter\n",
    "winter = temps[temps['season']=='Winter']\n",
    "winter.sample(5)\n",
    "# Now just segment out January\n",
    "jan = winter[winter['month']==1]\n",
    "# Show \n",
    "jan.sample(5)"
   ]
  },
  {
   "cell_type": "code",
   "execution_count": 48,
   "metadata": {},
   "outputs": [
    {
     "output_type": "execute_result",
     "data": {
      "text/plain": [
       "            MaxTemp       MinTemp           day         month          year  \\\n",
       "count  13387.000000  13387.000000  13387.000000  13387.000000  13387.000000   \n",
       "mean      25.041159      8.586987     15.570628      5.107642   1946.335101   \n",
       "std       13.136369     14.506678      8.728760      5.019043     42.824798   \n",
       "min      -20.000000    -41.000000      1.000000      1.000000   1872.000000   \n",
       "25%       16.000000     -2.000000      8.000000      1.000000   1909.000000   \n",
       "50%       27.000000      9.000000     16.000000      2.000000   1946.000000   \n",
       "75%       35.000000     20.000000     23.000000     12.000000   1983.000000   \n",
       "max       68.000000     49.000000     31.000000     12.000000   2020.000000   \n",
       "\n",
       "            AveTemp   HighLowDiff  \n",
       "count  13387.000000  13387.000000  \n",
       "mean      16.814073     16.454172  \n",
       "std       13.325749      7.464146  \n",
       "min      -29.000000      1.000000  \n",
       "25%        7.500000     11.000000  \n",
       "50%       18.000000     16.000000  \n",
       "75%       27.000000     21.000000  \n",
       "max       53.500000     57.000000  "
      ],
      "text/html": "<div>\n<style scoped>\n    .dataframe tbody tr th:only-of-type {\n        vertical-align: middle;\n    }\n\n    .dataframe tbody tr th {\n        vertical-align: top;\n    }\n\n    .dataframe thead th {\n        text-align: right;\n    }\n</style>\n<table border=\"1\" class=\"dataframe\">\n  <thead>\n    <tr style=\"text-align: right;\">\n      <th></th>\n      <th>MaxTemp</th>\n      <th>MinTemp</th>\n      <th>day</th>\n      <th>month</th>\n      <th>year</th>\n      <th>AveTemp</th>\n      <th>HighLowDiff</th>\n    </tr>\n  </thead>\n  <tbody>\n    <tr>\n      <th>count</th>\n      <td>13387.000000</td>\n      <td>13387.000000</td>\n      <td>13387.000000</td>\n      <td>13387.000000</td>\n      <td>13387.000000</td>\n      <td>13387.000000</td>\n      <td>13387.000000</td>\n    </tr>\n    <tr>\n      <th>mean</th>\n      <td>25.041159</td>\n      <td>8.586987</td>\n      <td>15.570628</td>\n      <td>5.107642</td>\n      <td>1946.335101</td>\n      <td>16.814073</td>\n      <td>16.454172</td>\n    </tr>\n    <tr>\n      <th>std</th>\n      <td>13.136369</td>\n      <td>14.506678</td>\n      <td>8.728760</td>\n      <td>5.019043</td>\n      <td>42.824798</td>\n      <td>13.325749</td>\n      <td>7.464146</td>\n    </tr>\n    <tr>\n      <th>min</th>\n      <td>-20.000000</td>\n      <td>-41.000000</td>\n      <td>1.000000</td>\n      <td>1.000000</td>\n      <td>1872.000000</td>\n      <td>-29.000000</td>\n      <td>1.000000</td>\n    </tr>\n    <tr>\n      <th>25%</th>\n      <td>16.000000</td>\n      <td>-2.000000</td>\n      <td>8.000000</td>\n      <td>1.000000</td>\n      <td>1909.000000</td>\n      <td>7.500000</td>\n      <td>11.000000</td>\n    </tr>\n    <tr>\n      <th>50%</th>\n      <td>27.000000</td>\n      <td>9.000000</td>\n      <td>16.000000</td>\n      <td>2.000000</td>\n      <td>1946.000000</td>\n      <td>18.000000</td>\n      <td>16.000000</td>\n    </tr>\n    <tr>\n      <th>75%</th>\n      <td>35.000000</td>\n      <td>20.000000</td>\n      <td>23.000000</td>\n      <td>12.000000</td>\n      <td>1983.000000</td>\n      <td>27.000000</td>\n      <td>21.000000</td>\n    </tr>\n    <tr>\n      <th>max</th>\n      <td>68.000000</td>\n      <td>49.000000</td>\n      <td>31.000000</td>\n      <td>12.000000</td>\n      <td>2020.000000</td>\n      <td>53.500000</td>\n      <td>57.000000</td>\n    </tr>\n  </tbody>\n</table>\n</div>"
     },
     "metadata": {},
     "execution_count": 48
    }
   ],
   "source": [
    "winter.describe()"
   ]
  }
 ],
 "metadata": {
  "kernelspec": {
   "display_name": "Python 3",
   "language": "python",
   "name": "python3"
  },
  "language_info": {
   "codemirror_mode": {
    "name": "ipython",
    "version": 3
   },
   "file_extension": ".py",
   "mimetype": "text/x-python",
   "name": "python",
   "nbconvert_exporter": "python",
   "pygments_lexer": "ipython3",
   "version": "3.8.3-final"
  }
 },
 "nbformat": 4,
 "nbformat_minor": 4
}